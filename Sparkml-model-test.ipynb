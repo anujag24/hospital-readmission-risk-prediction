{
 "cells": [
  {
   "cell_type": "code",
   "execution_count": 12,
   "metadata": {},
   "outputs": [
    {
     "name": "stdout",
     "output_type": "stream",
     "text": [
      "{\"input\": [{\"type\": \"string\", \"name\": \"encounters_encounterclass\"}, {\"type\": \"string\", \"name\": \"patient_gender\"}, {\"type\": \"string\", \"name\": \"patient_marital\"}, {\"type\": \"string\", \"name\": \"patient_ethnicity\"}, {\"type\": \"string\", \"name\": \"patient_race\"}, {\"type\": \"string\", \"name\": \"providers_speciality\"}, {\"type\": \"string\", \"name\": \"encounters_reasoncode\"}, {\"type\": \"string\", \"name\": \"encounters_code\"}, {\"type\": \"string\", \"name\": \"procedures_code\"}, {\"type\": \"double\", \"name\": \"patient_healthcare_expenses\"}, {\"type\": \"double\", \"name\": \"patient_healthcare_coverage\"}, {\"type\": \"double\", \"name\": \"encounters_total_claim_cost\"}, {\"type\": \"double\", \"name\": \"encounters_payer_coverage\"}, {\"type\": \"double\", \"name\": \"encounters_base_encounter_cost\"}, {\"type\": \"double\", \"name\": \"procedures_base_cost\"}, {\"type\": \"long\", \"name\": \"providers_utilization\"}, {\"type\": \"double\", \"name\": \"age\"}], \"output\": {\"type\": \"double\", \"name\": \"features\", \"struct\": \"vector\"}}\n"
     ]
    }
   ],
   "source": [
    "import json\n",
    "schema = {\"input\":[{\"type\":\"string\",\"name\":\"encounters_encounterclass\"},{\"type\":\"string\",\"name\":\"patient_gender\"},{\"type\":\"string\",\"name\":\"patient_marital\"},{\"type\":\"string\",\"name\":\"patient_ethnicity\"},{\"type\":\"string\",\"name\":\"patient_race\"},{\"type\":\"string\",\"name\":\"providers_speciality\"},{\"type\":\"string\",\"name\":\"encounters_reasoncode\"},{\"type\":\"string\",\"name\":\"encounters_code\"},{\"type\":\"string\",\"name\":\"procedures_code\"},{\"type\":\"double\",\"name\":\"patient_healthcare_expenses\"},{\"type\":\"double\",\"name\":\"patient_healthcare_coverage\"},{\"type\":\"double\",\"name\":\"encounters_total_claim_cost\"},{\"type\":\"double\",\"name\":\"encounters_payer_coverage\"},{\"type\":\"double\",\"name\":\"encounters_base_encounter_cost\"},{\"type\":\"double\",\"name\":\"procedures_base_cost\"},{\"type\":\"long\",\"name\":\"providers_utilization\"},{\"type\":\"double\",\"name\":\"age\"}],\"output\":{\"type\":\"double\",\"name\":\"features\",\"struct\":\"vector\"}}\n",
    "schema_json = json.dumps(schema)\n",
    "print(schema_json)\n"
   ]
  },
  {
   "cell_type": "code",
   "execution_count": 13,
   "metadata": {},
   "outputs": [
    {
     "name": "stdout",
     "output_type": "stream",
     "text": [
      "-----------------!"
     ]
    },
    {
     "data": {
      "text/plain": [
       "<sagemaker.sparkml.model.SparkMLPredictor at 0x7f9d56ef32b0>"
      ]
     },
     "execution_count": 13,
     "metadata": {},
     "output_type": "execute_result"
    }
   ],
   "source": [
    "from time import gmtime, strftime\n",
    "import time\n",
    "\n",
    "timestamp_prefix = strftime(\"%Y-%m-%d-%H-%M-%S\", gmtime())\n",
    "\n",
    "import sagemaker\n",
    "from sagemaker import get_execution_role\n",
    "from sagemaker.sparkml.model import SparkMLModel\n",
    "\n",
    "sess = sagemaker.Session()\n",
    "role = get_execution_role()\n",
    "\n",
    "s3_model_bucket = \"readmission-data-ehr\"\n",
    "s3_model_bucket_prefix = \"spark-ml-model/2020/3/7\"\n",
    "\n",
    "# S3 location of where you uploaded your trained and serialized SparkML model\n",
    "sparkml_data = 's3://{}/{}/{}'.format(s3_model_bucket, s3_model_bucket_prefix, 'model.tar.gz')\n",
    "model_name = 'sparkml-abalone-' + timestamp_prefix\n",
    "sparkml_model = SparkMLModel(model_data=sparkml_data, \n",
    "                             role=role, \n",
    "                             sagemaker_session=sess, \n",
    "                             name=model_name,\n",
    "                             # passing the schema defined above by using an environment \n",
    "                             #variable that sagemaker-sparkml-serving understands\n",
    "                             env={'SAGEMAKER_SPARKML_SCHEMA' : schema_json})\n",
    "\n",
    "\n",
    "endpoint_name = 'sparkml-abalone-ep-' + timestamp_prefix\n",
    "sparkml_model.deploy(initial_instance_count=1, instance_type='ml.c4.xlarge', endpoint_name=endpoint_name)"
   ]
  },
  {
   "cell_type": "code",
   "execution_count": 14,
   "metadata": {},
   "outputs": [
    {
     "name": "stdout",
     "output_type": "stream",
     "text": [
      "b'0.0,1.0,0.0,0.0,0.0,0.0,1.0,0.0,1.0,0.0,0.0,0.0,1.0,0.0,0.0,0.0,0.0,1.0,0.0,0.0,0.0,0.0,0.0,0.0,0.0,0.0,0.0,0.0,0.0,0.0,0.0,0.0,0.0,0.0,0.0,0.0,0.0,0.0,0.0,0.0,0.0,0.0,0.0,0.0,0.0,0.0,0.0,0.0,0.0,0.0,0.0,0.0,0.0,0.0,0.0,0.0,0.0,0.0,0.0,0.0,0.0,0.0,0.0,0.0,0.0,0.0,0.0,0.0,0.0,0.0,0.0,0.0,0.0,0.0,0.0,0.0,0.0,0.0,0.0,0.0,0.0,0.0,0.0,0.0,0.0,0.0,0.0,0.0,0.0,0.0,0.0,0.0,0.0,0.0,0.0,0.0,0.0,0.0,0.0,0.0,0.0,0.0,0.0,1.0,0.0,0.0,0.0,0.0,0.0,0.0,0.0,0.0,0.0,0.0,0.0,0.0,0.0,0.0,0.0,0.0,0.0,0.0,0.0,0.0,0.0,0.0,0.0,0.0,0.0,0.0,0.0,0.0,0.0,0.0,0.0,0.0,0.0,0.0,0.0,0.0,0.0,0.0,0.0,0.0,0.0,1.0,0.0,0.0,0.0,0.0,0.0,0.0,0.0,0.0,0.0,0.0,0.0,0.0,0.0,0.0,0.0,0.0,0.0,0.0,0.0,0.0,0.0,0.0,0.0,0.0,0.0,0.0,0.0,0.0,0.0,0.0,0.0,0.0,0.0,0.0,0.0,0.0,0.0,0.0,0.0,0.0,0.0,0.0,0.0,0.0,0.0,0.0,0.0,0.0,0.0,0.0,0.0,0.0,0.0,0.0,0.0,0.0,0.0,0.0,0.0,0.0,0.0,0.0,0.0,0.0,0.0,0.0,0.0,0.0,0.0,0.0,0.0,0.0,0.0,0.0,0.0,0.0,0.0,0.0,0.0,0.0,0.0,0.0,0.0,0.0,0.0,0.0,0.0,0.0,0.0,0.0,0.0,0.0,0.0,0.0,0.0,0.0,0.0,0.0,0.0,0.0,0.0,0.0,0.0,0.0,0.0,0.0,0.0,0.0,0.0,0.0,0.0,0.0,0.0,0.0,0.0,0.0,0.0,0.0,0.0,0.0,0.0,0.0,0.0,0.0,0.0,0.0,0.0,0.0,0.0,0.0,0.0,0.0,0.0,0.0,0.0,0.0,0.0,0.0,0.0,0.0,0.0,0.0,0.0,0.0,0.0,0.0,0.0,0.0,0.0,0.0,0.0,0.0,0.0,0.0,0.0,0.0,0.0,0.0,0.0,0.0,0.0,0.0,0.0,0.0,0.0,0.0,0.0,0.0,262241.4,2324.88,129.16,64.16,129.16,526.17,16.0,40.0'\n"
     ]
    }
   ],
   "source": [
    "from sagemaker.predictor import json_serializer, csv_serializer, json_deserializer, RealTimePredictor\n",
    "from sagemaker.content_types import CONTENT_TYPE_CSV, CONTENT_TYPE_JSON\n",
    "payload = \"outpatient,M,S,hispanic,white,F,271737000,185347001,430193006,262241.40,2324.88,129.16,64.16,129.16,526.17,16,40\"\n",
    "predictor = RealTimePredictor(endpoint=endpoint_name, sagemaker_session=sess, serializer=csv_serializer,\n",
    "                                content_type=CONTENT_TYPE_CSV, accept=CONTENT_TYPE_CSV)\n",
    "print(predictor.predict(payload))"
   ]
  },
  {
   "cell_type": "code",
   "execution_count": 15,
   "metadata": {},
   "outputs": [
    {
     "data": {
      "text/plain": [
       "{'ResponseMetadata': {'RequestId': '78de6b9f-1938-4429-a5f3-793045509666',\n",
       "  'HTTPStatusCode': 200,\n",
       "  'HTTPHeaders': {'x-amzn-requestid': '78de6b9f-1938-4429-a5f3-793045509666',\n",
       "   'content-type': 'application/x-amz-json-1.1',\n",
       "   'content-length': '0',\n",
       "   'date': 'Sat, 07 Mar 2020 07:24:23 GMT'},\n",
       "  'RetryAttempts': 0}}"
      ]
     },
     "execution_count": 15,
     "metadata": {},
     "output_type": "execute_result"
    }
   ],
   "source": [
    "boto_session = sess.boto_session\n",
    "sm_client = boto_session.client('sagemaker')\n",
    "sm_client.delete_endpoint(EndpointName=endpoint_name)"
   ]
  },
  {
   "cell_type": "code",
   "execution_count": null,
   "metadata": {},
   "outputs": [],
   "source": []
  }
 ],
 "metadata": {
  "kernelspec": {
   "display_name": "conda_python3",
   "language": "python",
   "name": "conda_python3"
  },
  "language_info": {
   "codemirror_mode": {
    "name": "ipython",
    "version": 3
   },
   "file_extension": ".py",
   "mimetype": "text/x-python",
   "name": "python",
   "nbconvert_exporter": "python",
   "pygments_lexer": "ipython3",
   "version": "3.6.5"
  }
 },
 "nbformat": 4,
 "nbformat_minor": 4
}
